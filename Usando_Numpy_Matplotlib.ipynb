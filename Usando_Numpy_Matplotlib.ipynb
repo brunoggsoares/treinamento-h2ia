{
  "nbformat": 4,
  "nbformat_minor": 0,
  "metadata": {
    "colab": {
      "provenance": [],
      "authorship_tag": "ABX9TyN+4/47kths/nEnVXJTgSRA",
      "include_colab_link": true
    },
    "kernelspec": {
      "name": "python3",
      "display_name": "Python 3"
    },
    "language_info": {
      "name": "python"
    }
  },
  "cells": [
    {
      "cell_type": "markdown",
      "metadata": {
        "id": "view-in-github",
        "colab_type": "text"
      },
      "source": [
        "<a href=\"https://colab.research.google.com/github/brunoggsoares/treinamento-h2ia/blob/main/Usando_Numpy_Matplotlib.ipynb\" target=\"_parent\"><img src=\"https://colab.research.google.com/assets/colab-badge.svg\" alt=\"Open In Colab\"/></a>"
      ]
    },
    {
      "cell_type": "markdown",
      "source": [
        "Importando a biblioteca NumPy"
      ],
      "metadata": {
        "id": "ycgiok6uXIh1"
      }
    },
    {
      "cell_type": "code",
      "execution_count": 10,
      "metadata": {
        "id": "bDCud69jGzoy"
      },
      "outputs": [],
      "source": [
        "import numpy as np"
      ]
    },
    {
      "cell_type": "markdown",
      "source": [
        "Criando um vetor de uma dimensão"
      ],
      "metadata": {
        "id": "lrGHYZNqXdri"
      }
    },
    {
      "cell_type": "code",
      "source": [
        "numeros = np.array([2,4,6,8,10], np.int16) #criando uma lista de números e determinando o tipo de dados\n",
        "print(numeros)                             #imprimindo a lista na tela"
      ],
      "metadata": {
        "colab": {
          "base_uri": "https://localhost:8080/"
        },
        "id": "QPStvXBVXgOE",
        "outputId": "01edb241-e3f4-402a-c7dd-6e9db339619c"
      },
      "execution_count": 17,
      "outputs": [
        {
          "output_type": "stream",
          "name": "stdout",
          "text": [
            "[ 2  4  6  8 10]\n"
          ]
        }
      ]
    },
    {
      "cell_type": "code",
      "source": [
        "print(numeros[-1])                         #acessando os elementos individuais do array 0 para primeiro número e -1 para último"
      ],
      "metadata": {
        "colab": {
          "base_uri": "https://localhost:8080/"
        },
        "id": "NrVcITv3YuV5",
        "outputId": "be917e0f-7865-4b44-8d06-9b456c2b4331"
      },
      "execution_count": 33,
      "outputs": [
        {
          "output_type": "stream",
          "name": "stdout",
          "text": [
            "10\n"
          ]
        }
      ]
    },
    {
      "cell_type": "code",
      "source": [
        "print(numeros.dtype)                      #obtendo os tipos dos dados armazenados no array"
      ],
      "metadata": {
        "colab": {
          "base_uri": "https://localhost:8080/"
        },
        "id": "3ixZ8HodZbuv",
        "outputId": "151f8830-4b72-43b6-e375-1a4dca5a571b"
      },
      "execution_count": 32,
      "outputs": [
        {
          "output_type": "stream",
          "name": "stdout",
          "text": [
            "int16\n"
          ]
        }
      ]
    },
    {
      "cell_type": "code",
      "source": [
        "numeros[0] = 4                           #Fazendo algumas alterações nos elementos individuais\n",
        "print(numeros[0])"
      ],
      "metadata": {
        "colab": {
          "base_uri": "https://localhost:8080/"
        },
        "id": "1rVUmcSMaKDQ",
        "outputId": "390345e1-a19d-4ca2-c966-c6b1743f8a85"
      },
      "execution_count": 31,
      "outputs": [
        {
          "output_type": "stream",
          "name": "stdout",
          "text": [
            "4\n"
          ]
        }
      ]
    },
    {
      "cell_type": "markdown",
      "source": [
        "Criando um array bidimensional(Matriz)"
      ],
      "metadata": {
        "id": "EtPsCJcsaePT"
      }
    },
    {
      "cell_type": "code",
      "source": [
        "M = np.array([[1,2,3], [4,5,6], [7,8,9]]) #criando a matriz\n",
        "print(M)                                  #imprimindo a matriz"
      ],
      "metadata": {
        "colab": {
          "base_uri": "https://localhost:8080/"
        },
        "id": "tehdlYz2ab7N",
        "outputId": "62013487-534a-4594-8912-6c6b13746fa2"
      },
      "execution_count": 37,
      "outputs": [
        {
          "output_type": "stream",
          "name": "stdout",
          "text": [
            "[[1 2 3]\n",
            " [4 5 6]\n",
            " [7 8 9]]\n"
          ]
        }
      ]
    },
    {
      "cell_type": "code",
      "source": [
        "print(M[0,1])                            #acessando o elemento de determinada linha e coluna"
      ],
      "metadata": {
        "colab": {
          "base_uri": "https://localhost:8080/"
        },
        "id": "OrPHznn0bJ3y",
        "outputId": "2a49fc29-abfa-4215-ae53-ff9c7ea78767"
      },
      "execution_count": 38,
      "outputs": [
        {
          "output_type": "stream",
          "name": "stdout",
          "text": [
            "2\n"
          ]
        }
      ]
    },
    {
      "cell_type": "code",
      "source": [
        "M[0,0] = 8                               #alterando valores nos elementos individuais de uma matriz\n",
        "print(M[0,0])"
      ],
      "metadata": {
        "colab": {
          "base_uri": "https://localhost:8080/"
        },
        "id": "PRR2Zokibe4f",
        "outputId": "ccc43b38-0b80-401e-d990-112afe8d2d1c"
      },
      "execution_count": 39,
      "outputs": [
        {
          "output_type": "stream",
          "name": "stdout",
          "text": [
            "8\n"
          ]
        }
      ]
    },
    {
      "cell_type": "code",
      "source": [
        "print (M)"
      ],
      "metadata": {
        "colab": {
          "base_uri": "https://localhost:8080/"
        },
        "id": "BkvmKUDpcL59",
        "outputId": "018849ca-a118-49d6-a123-c5b32d262621"
      },
      "execution_count": 40,
      "outputs": [
        {
          "output_type": "stream",
          "name": "stdout",
          "text": [
            "[[8 2 3]\n",
            " [4 5 6]\n",
            " [7 8 9]]\n"
          ]
        }
      ]
    },
    {
      "cell_type": "code",
      "source": [
        "print('Primeira coluna:  ', M[:,0])      #visualizando o conteúdo de uma coluna || M[:,0] > todo conteúdo da linha na coluna 0\n",
        "print('Segunda coluna:   ', M[:,1])\n",
        "print('Terceira coluna:  ', M[:,2])"
      ],
      "metadata": {
        "colab": {
          "base_uri": "https://localhost:8080/"
        },
        "id": "jgYUfD41c0sK",
        "outputId": "c1d38c9f-0ee1-4b7f-d075-03765bd8b9eb"
      },
      "execution_count": 48,
      "outputs": [
        {
          "output_type": "stream",
          "name": "stdout",
          "text": [
            "Primeira coluna:   [8 4 7]\n",
            "Segunda coluna:    [2 5 8]\n",
            "Terceira coluna:   [3 6 9]\n"
          ]
        }
      ]
    },
    {
      "cell_type": "code",
      "source": [
        "print('Primeira linha: ', M[0,:])       #visualizando o conteúdo de uma linha"
      ],
      "metadata": {
        "colab": {
          "base_uri": "https://localhost:8080/"
        },
        "id": "hx4aBSkRd7PU",
        "outputId": "9217a7cf-c247-4f3a-ffa9-d1e0388d2abb"
      },
      "execution_count": 45,
      "outputs": [
        {
          "output_type": "stream",
          "name": "stdout",
          "text": [
            "Primeira linha:  [8 2 3]\n"
          ]
        }
      ]
    },
    {
      "cell_type": "markdown",
      "source": [
        "Números de dimensões de um array com .ndim"
      ],
      "metadata": {
        "id": "OufMyMi3fSan"
      }
    },
    {
      "cell_type": "code",
      "source": [
        "print(numeros.ndim)\n",
        "print(M.ndim)"
      ],
      "metadata": {
        "colab": {
          "base_uri": "https://localhost:8080/"
        },
        "id": "3F-38rwhfZil",
        "outputId": "7b4e5034-2620-4635-f1ce-a86785abb548"
      },
      "execution_count": 49,
      "outputs": [
        {
          "output_type": "stream",
          "name": "stdout",
          "text": [
            "1\n",
            "2\n"
          ]
        }
      ]
    },
    {
      "cell_type": "markdown",
      "source": [
        "Tamanho do array com .shape"
      ],
      "metadata": {
        "id": "e-IgLg22fld1"
      }
    },
    {
      "cell_type": "code",
      "source": [
        "print(numeros.shape)  \n",
        "print(M.shape)        "
      ],
      "metadata": {
        "colab": {
          "base_uri": "https://localhost:8080/"
        },
        "id": "RN_RdfvjflCt",
        "outputId": "055f7d5a-56b2-455f-ac14-ccb1d618f02b"
      },
      "execution_count": 51,
      "outputs": [
        {
          "output_type": "stream",
          "name": "stdout",
          "text": [
            "(5,)\n",
            "(3, 3)\n"
          ]
        }
      ]
    },
    {
      "cell_type": "markdown",
      "source": [
        "Número total de elementos de um array com .size"
      ],
      "metadata": {
        "id": "cmhEFVd5gFN9"
      }
    },
    {
      "cell_type": "code",
      "source": [
        "print(numeros.size)\n",
        "print(M.size)"
      ],
      "metadata": {
        "colab": {
          "base_uri": "https://localhost:8080/"
        },
        "id": "GnHZKzCngE0P",
        "outputId": "584f7e78-23f2-44ea-a839-55875c77df0b"
      },
      "execution_count": 52,
      "outputs": [
        {
          "output_type": "stream",
          "name": "stdout",
          "text": [
            "5\n",
            "9\n"
          ]
        }
      ]
    },
    {
      "cell_type": "markdown",
      "source": [
        "Usando a biblioteca Matplotlib"
      ],
      "metadata": {
        "id": "9ac4AWp7rASl"
      }
    },
    {
      "cell_type": "code",
      "source": [
        "import matplotlib.pyplot as grafico"
      ],
      "metadata": {
        "id": "p4LkL3SlrDHH"
      },
      "execution_count": 54,
      "outputs": []
    },
    {
      "cell_type": "code",
      "source": [
        "meses = ['Jan', 'Fev', 'Mar', 'Abr', 'Mai', 'Jun']          #criando listas\n",
        "temp = [30, 31, 27, 26, 22, 18]                             #criando listas"
      ],
      "metadata": {
        "id": "tI0ZMMZz0_Jw"
      },
      "execution_count": 55,
      "outputs": []
    },
    {
      "cell_type": "markdown",
      "source": [
        "Criando um gráfico de linhas"
      ],
      "metadata": {
        "id": "wdHh92g74VUu"
      }
    },
    {
      "cell_type": "code",
      "source": [
        "grafico.ylabel('Temp / C°', color='red')                                 \n",
        "grafico.xlabel('Mês', color='blue')\n",
        "grafico.axis(ymin=0, ymax=40)                               #definindo eixos máximos e mínimos\n",
        "grafico.title('Temperaturas médias mensais')                #Dando titulo ao grafico\n",
        "grafico.plot(meses, temp, label='Temperaturas', marker='o') #Colocando um marcador e uma legenda no grafo\n",
        "grafico.legend()\n",
        "grafico.grid(True)                                          #Colocando grades no grafico\n",
        "\n",
        "grafico.show()                                              #exibindo o grafico"
      ],
      "metadata": {
        "colab": {
          "base_uri": "https://localhost:8080/",
          "height": 295
        },
        "id": "KpUGIHUj1yuV",
        "outputId": "37d4c5f4-fd64-43dc-bd94-af5e592ad744"
      },
      "execution_count": 66,
      "outputs": [
        {
          "output_type": "display_data",
          "data": {
            "text/plain": [
              "<Figure size 432x288 with 1 Axes>"
            ],
            "image/png": "[encoded data removed]"
          },
          "metadata": {
            "needs_background": "light"
          }
        }
      ]
    },
    {
      "cell_type": "markdown",
      "source": [
        "Criando um gráfico com barras"
      ],
      "metadata": {
        "id": "zxAwc_nM4Rwj"
      }
    },
    {
      "cell_type": "code",
      "source": [
        "grafico.ylabel('Temp / C°', color='red')                                 \n",
        "grafico.xlabel('Mês', color='blue')\n",
        "grafico.axis(ymin=0, ymax=40)                               #definindo eixos máximos e mínimos\n",
        "grafico.title('Temperaturas médias mensais')                #Dando titulo ao grafico\n",
        "grafico.bar(meses, temp)\n",
        "grafico.legend\n",
        "\n",
        "grafico.show()                                              #exibindo o grafico"
      ],
      "metadata": {
        "colab": {
          "base_uri": "https://localhost:8080/",
          "height": 295
        },
        "id": "19CUMTOH32ph",
        "outputId": "905f74e6-3085-4fce-9250-13bd56f4622a"
      },
      "execution_count": 68,
      "outputs": [
        {
          "output_type": "display_data",
          "data": {
            "text/plain": [
              "<Figure size 432x288 with 1 Axes>"
            ],
            "image/png": "[encoded data removed]"
          },
          "metadata": {
            "needs_background": "light"
          }
        }
      ]
    }
  ]
}